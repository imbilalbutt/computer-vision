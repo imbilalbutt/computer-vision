{
 "cells": [
  {
   "cell_type": "code",
   "execution_count": 2,
   "id": "bb8ab076-67e8-4e4e-a28a-d85295eb7d73",
   "metadata": {},
   "outputs": [
    {
     "name": "stdout",
     "output_type": "stream",
     "text": [
      "C:\\Python\\Projects\\Computer vision\\computer-vision\\Python\\Computer vision exerices\\exercise_0_introduction\\exercise_0_introduction\\src\n"
     ]
    }
   ],
   "source": [
    "import os \n",
    "print(os.getcwd())"
   ]
  },
  {
   "cell_type": "code",
   "execution_count": 5,
   "id": "7ef970eb-26e8-49a0-8cf8-dbece2684302",
   "metadata": {},
   "outputs": [],
   "source": [
    "import sys\n",
    "sys.path.append(\".\")\n",
    "sys.path.append(\".\\\\..\\\\\")\n",
    "sys.path.append(\".\\\\..\\\\utils\")\n",
    "from utils import show_images, save_images, scale_down, separate_channels\n",
    "import os\n",
    "import cv2\n",
    "\n",
    "import numpy as np\n",
    "from typing import List, Tuple\n"
   ]
  },
  {
   "cell_type": "code",
   "execution_count": 6,
   "id": "e1d0ae03-2e38-46f0-bfbe-a218e97863d5",
   "metadata": {},
   "outputs": [],
   "source": [
    "t_image_list = List[np.array]\n",
    "t_str_list = List[str]\n",
    "t_image_triplet = Tuple[np.array, np.array, np.array]\n",
    "\n",
    "\n",
    "def show_images(images: t_image_list, names: t_str_list) -> None:\n",
    "    \"\"\"Shows one or more images at once.\n",
    "\n",
    "    Displaying a single image can be done by putting it in a list.\n",
    "\n",
    "    Args:\n",
    "        images: A list of numpy arrays in opencv format [HxW] or [HxWxC]\n",
    "        names: A list of strings that will appear as the window titles for each image\n",
    "\n",
    "    Returns:\n",
    "        None\n",
    "    \"\"\"\n",
    "    for i, image in enumerate(images):\n",
    "        cv2.imshow(names[i], image)\n",
    "        cv2.waitKey(0)\n",
    "        cv2.destroyAllWindows()"
   ]
  },
  {
   "cell_type": "code",
   "execution_count": 7,
   "id": "94d02e26-7706-407f-b4d6-06500b89453f",
   "metadata": {},
   "outputs": [],
   "source": [
    "input_path = os.path.join(\".\\\\..\\\\resources\", \"img.png\")\n",
    "output_path = os.path.join(os.getcwd(), \"results\")\n",
    "img = cv2.imread(input_path, cv2.IMREAD_COLOR)\n",
    "show_images([img], [\"Display Image\"])"
   ]
  },
  {
   "cell_type": "code",
   "execution_count": 12,
   "id": "a68740ae-8bfc-493b-8efb-8df36aad4075",
   "metadata": {},
   "outputs": [
    {
     "data": {
      "text/plain": [
       "array([[[126, 127, 131],\n",
       "        [125, 128, 132],\n",
       "        [125, 129, 130],\n",
       "        ...,\n",
       "        [246, 248, 249],\n",
       "        [244, 246, 247],\n",
       "        [240, 242, 243]],\n",
       "\n",
       "       [[125, 125, 131],\n",
       "        [127, 128, 132],\n",
       "        [126, 130, 131],\n",
       "        ...,\n",
       "        [242, 241, 243],\n",
       "        [246, 245, 247],\n",
       "        [251, 250, 252]],\n",
       "\n",
       "       [[126, 124, 130],\n",
       "        [128, 126, 132],\n",
       "        [127, 128, 132],\n",
       "        ...,\n",
       "        [246, 245, 247],\n",
       "        [245, 244, 246],\n",
       "        [240, 239, 241]],\n",
       "\n",
       "       ...,\n",
       "\n",
       "       [[116, 137, 145],\n",
       "        [ 65,  86,  94],\n",
       "        [ 54,  77,  85],\n",
       "        ...,\n",
       "        [ 60,  78, 155],\n",
       "        [ 93, 115, 193],\n",
       "        [ 94, 115, 197]],\n",
       "\n",
       "       [[ 31,  52,  60],\n",
       "        [ 59,  80,  88],\n",
       "        [ 79, 102, 110],\n",
       "        ...,\n",
       "        [ 49,  64, 137],\n",
       "        [ 78,  99, 174],\n",
       "        [ 74,  91, 172]],\n",
       "\n",
       "       [[ 62,  83,  91],\n",
       "        [ 62,  85,  93],\n",
       "        [ 59,  82,  90],\n",
       "        ...,\n",
       "        [ 45,  61, 128],\n",
       "        [ 65,  83, 154],\n",
       "        [ 78,  91, 170]]], dtype=uint8)"
      ]
     },
     "execution_count": 12,
     "metadata": {},
     "output_type": "execute_result"
    }
   ],
   "source": [
    "img"
   ]
  },
  {
   "cell_type": "code",
   "execution_count": null,
   "id": "9bf04a64-283a-45da-9581-934e337a228a",
   "metadata": {},
   "outputs": [],
   "source": []
  }
 ],
 "metadata": {
  "kernelspec": {
   "display_name": "Python 3 (ipykernel)",
   "language": "python",
   "name": "python3"
  },
  "language_info": {
   "codemirror_mode": {
    "name": "ipython",
    "version": 3
   },
   "file_extension": ".py",
   "mimetype": "text/x-python",
   "name": "python",
   "nbconvert_exporter": "python",
   "pygments_lexer": "ipython3",
   "version": "3.10.5"
  }
 },
 "nbformat": 4,
 "nbformat_minor": 5
}
