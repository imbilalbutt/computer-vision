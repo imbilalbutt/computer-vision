{
 "cells": [
  {
   "cell_type": "code",
   "execution_count": 2,
   "id": "bb8ab076-67e8-4e4e-a28a-d85295eb7d73",
   "metadata": {},
   "outputs": [
    {
     "name": "stdout",
     "output_type": "stream",
     "text": [
      "C:\\Python\\Projects\\Computer vision\\computer-vision\\Python\\Computer vision exerices\\exercise_0_introduction\\exercise_0_introduction\\src\n"
     ]
    }
   ],
   "source": [
    "import os \n",
    "print(os.getcwd())"
   ]
  },
  {
   "cell_type": "code",
   "execution_count": 8,
   "id": "7ef970eb-26e8-49a0-8cf8-dbece2684302",
   "metadata": {},
   "outputs": [],
   "source": [
    "import sys\n",
    "sys.path.append(\".\")\n",
    "sys.path.append(\".\\\\..\\\\\")\n",
    "sys.path.append(\".\\\\..\\\\utils\")\n",
    "from utils import show_images, save_images, scale_down, separate_channels\n",
    "import os\n",
    "import cv2\n",
    "\n",
    "import numpy as np\n",
    "from typing import List, Tuple\n"
   ]
  },
  {
   "cell_type": "code",
   "execution_count": 9,
   "id": "e1d0ae03-2e38-46f0-bfbe-a218e97863d5",
   "metadata": {},
   "outputs": [],
   "source": [
    "t_image_list = List[np.array]\n",
    "t_str_list = List[str]\n",
    "t_image_triplet = Tuple[np.array, np.array, np.array]\n",
    "\n",
    "\n",
    "def show_images(images: t_image_list, names: t_str_list) -> None:\n",
    "    \"\"\"Shows one or more images at once.\n",
    "\n",
    "    Displaying a single image can be done by putting it in a list.\n",
    "\n",
    "    Args:\n",
    "        images: A list of numpy arrays in opencv format [HxW] or [HxWxC]\n",
    "        names: A list of strings that will appear as the window titles for each image\n",
    "\n",
    "    Returns:\n",
    "        None\n",
    "    \"\"\"\n",
    "    for i, image in enumerate(images):\n",
    "        cv2.imshow(names[i], image)\n",
    "        cv2.waitKey(0)\n",
    "        cv2.destroyAllWindows()"
   ]
  },
  {
   "cell_type": "code",
   "execution_count": 10,
   "id": "94d02e26-7706-407f-b4d6-06500b89453f",
   "metadata": {},
   "outputs": [],
   "source": [
    "input_path = os.path.join(\".\\\\..\\\\resources\", \"img.png\")\n",
    "output_path = os.path.join(os.getcwd(), \"results\")\n",
    "img = cv2.imread(input_path, cv2.IMREAD_COLOR)\n",
    "show_images([img], [\"Display Image\"])"
   ]
  },
  {
   "cell_type": "code",
   "execution_count": 12,
   "id": "9bf04a64-283a-45da-9581-934e337a228a",
   "metadata": {},
   "outputs": [
    {
     "name": "stdout",
     "output_type": "stream",
     "text": [
      "Collecting line_profiler\n",
      "  Downloading line_profiler-4.1.3-cp310-cp310-win_amd64.whl (125 kB)\n",
      "     -------------------------------------- 125.5/125.5 KB 2.5 MB/s eta 0:00:00\n",
      "Installing collected packages: line_profiler\n",
      "Successfully installed line_profiler-4.1.3\n"
     ]
    },
    {
     "name": "stderr",
     "output_type": "stream",
     "text": [
      "WARNING: You are using pip version 22.0.4; however, version 24.0 is available.\n",
      "You should consider upgrading via the 'C:\\Python\\venv310\\Scripts\\python.exe -m pip install --upgrade pip' command.\n"
     ]
    }
   ],
   "source": [
    "!pip3 install line_profiler"
   ]
  },
  {
   "cell_type": "code",
   "execution_count": null,
   "id": "94285dc9-e49b-4bcf-a05b-dbfa8a68be7c",
   "metadata": {},
   "outputs": [],
   "source": []
  }
 ],
 "metadata": {
  "kernelspec": {
   "display_name": "Python 3 (ipykernel)",
   "language": "python",
   "name": "python3"
  },
  "language_info": {
   "codemirror_mode": {
    "name": "ipython",
    "version": 3
   },
   "file_extension": ".py",
   "mimetype": "text/x-python",
   "name": "python",
   "nbconvert_exporter": "python",
   "pygments_lexer": "ipython3",
   "version": "3.10.5"
  }
 },
 "nbformat": 4,
 "nbformat_minor": 5
}
